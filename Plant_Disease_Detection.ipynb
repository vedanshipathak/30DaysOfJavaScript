{
  "nbformat": 4,
  "nbformat_minor": 0,
  "metadata": {
    "colab": {
      "provenance": [],
      "gpuType": "T4",
      "authorship_tag": "ABX9TyMJvIaJ1OaF44zupizrfPsd",
      "include_colab_link": true
    },
    "kernelspec": {
      "name": "python3",
      "display_name": "Python 3"
    },
    "language_info": {
      "name": "python"
    },
    "accelerator": "GPU"
  },
  "cells": [
    {
      "cell_type": "markdown",
      "metadata": {
        "id": "view-in-github",
        "colab_type": "text"
      },
      "source": [
        "<a href=\"https://colab.research.google.com/github/vedanshipathak/30DaysOfJavaScript/blob/master/Plant_Disease_Detection.ipynb\" target=\"_parent\"><img src=\"https://colab.research.google.com/assets/colab-badge.svg\" alt=\"Open In Colab\"/></a>"
      ]
    },
    {
      "cell_type": "code",
      "execution_count": 1,
      "metadata": {
        "id": "l2UpRvk7cRkU"
      },
      "outputs": [],
      "source": [
        "# Set seeds for reproducibility\n",
        "import random\n",
        "random.seed(0)\n",
        "\n",
        "import numpy as np\n",
        "np.random.seed(0)\n",
        "\n",
        "import tensorflow as tf\n",
        "tf.random.set_seed(0)"
      ]
    },
    {
      "cell_type": "markdown",
      "source": [
        "importing the necessary libraries"
      ],
      "metadata": {
        "id": "cwUV6t8RdmwF"
      }
    },
    {
      "cell_type": "code",
      "source": [
        "import os  #to access some files\n",
        "import json # to access the kaggle.json file\n",
        "from zipfile import ZipFile #create the zip file for kaggle dataset\n",
        "from PIL import Image\n",
        "\n",
        "import numpy as np\n",
        "import matplotlib.pyplot as plt\n",
        "import matplotlib.image as mpimg\n",
        "from tensorflow.keras.preprocessing.image import ImageDataGenerator\n",
        "from tensorflow.keras import layers, models #to get all layers cnn,dense or flat layer"
      ],
      "metadata": {
        "id": "GBVfwD5Wdgi2"
      },
      "execution_count": 2,
      "outputs": []
    },
    {
      "cell_type": "markdown",
      "source": [
        "data preparation"
      ],
      "metadata": {
        "id": "Ca1fBdtpeJg0"
      }
    },
    {
      "cell_type": "code",
      "source": [
        "!pip install kaggle\n"
      ],
      "metadata": {
        "colab": {
          "base_uri": "https://localhost:8080/"
        },
        "id": "uNzIESPveEeO",
        "outputId": "45c42c0f-e3b3-4d9a-f2b5-09ddd83b2041"
      },
      "execution_count": 3,
      "outputs": [
        {
          "output_type": "stream",
          "name": "stdout",
          "text": [
            "Requirement already satisfied: kaggle in /usr/local/lib/python3.10/dist-packages (1.6.17)\n",
            "Requirement already satisfied: six>=1.10 in /usr/local/lib/python3.10/dist-packages (from kaggle) (1.16.0)\n",
            "Requirement already satisfied: certifi>=2023.7.22 in /usr/local/lib/python3.10/dist-packages (from kaggle) (2024.8.30)\n",
            "Requirement already satisfied: python-dateutil in /usr/local/lib/python3.10/dist-packages (from kaggle) (2.8.2)\n",
            "Requirement already satisfied: requests in /usr/local/lib/python3.10/dist-packages (from kaggle) (2.32.3)\n",
            "Requirement already satisfied: tqdm in /usr/local/lib/python3.10/dist-packages (from kaggle) (4.66.5)\n",
            "Requirement already satisfied: python-slugify in /usr/local/lib/python3.10/dist-packages (from kaggle) (8.0.4)\n",
            "Requirement already satisfied: urllib3 in /usr/local/lib/python3.10/dist-packages (from kaggle) (2.0.7)\n",
            "Requirement already satisfied: bleach in /usr/local/lib/python3.10/dist-packages (from kaggle) (6.1.0)\n",
            "Requirement already satisfied: webencodings in /usr/local/lib/python3.10/dist-packages (from bleach->kaggle) (0.5.1)\n",
            "Requirement already satisfied: text-unidecode>=1.3 in /usr/local/lib/python3.10/dist-packages (from python-slugify->kaggle) (1.3)\n",
            "Requirement already satisfied: charset-normalizer<4,>=2 in /usr/local/lib/python3.10/dist-packages (from requests->kaggle) (3.3.2)\n",
            "Requirement already satisfied: idna<4,>=2.5 in /usr/local/lib/python3.10/dist-packages (from requests->kaggle) (3.8)\n"
          ]
        }
      ]
    },
    {
      "cell_type": "code",
      "source": [
        "kaggle_credentails = json.load(open(\"kaggle.json\")) #will create a dictionary and store it in kaggle credentials"
      ],
      "metadata": {
        "id": "vgkstUlYeS6n"
      },
      "execution_count": 4,
      "outputs": []
    },
    {
      "cell_type": "code",
      "source": [
        "# setup Kaggle API key as environment variables\n",
        "os.environ['KAGGLE_USERNAME'] = kaggle_credentails[\"username\"]\n",
        "os.environ['KAGGLE_KEY'] = kaggle_credentails[\"key\"] #we do this so that the credentials wont come up at the time of code"
      ],
      "metadata": {
        "id": "npkRm3ZiegkK"
      },
      "execution_count": 6,
      "outputs": []
    },
    {
      "cell_type": "code",
      "source": [
        "!kaggle datasets download -d abdallahalidev/plantvillage-dataset"
      ],
      "metadata": {
        "colab": {
          "base_uri": "https://localhost:8080/"
        },
        "id": "D9WZD0ATe405",
        "outputId": "3b195d88-0d2d-49a4-ecd9-26dd620971a9"
      },
      "execution_count": 7,
      "outputs": [
        {
          "output_type": "stream",
          "name": "stdout",
          "text": [
            "Dataset URL: https://www.kaggle.com/datasets/abdallahalidev/plantvillage-dataset\n",
            "License(s): CC-BY-NC-SA-4.0\n",
            "Downloading plantvillage-dataset.zip to /content\n",
            "100% 2.03G/2.04G [00:29<00:00, 122MB/s]\n",
            "100% 2.04G/2.04G [00:29<00:00, 74.8MB/s]\n"
          ]
        }
      ]
    },
    {
      "cell_type": "code",
      "source": [
        "# to list all the files in the working directory we use !ls, to make sure our dataset is present\n",
        "!ls\n"
      ],
      "metadata": {
        "colab": {
          "base_uri": "https://localhost:8080/"
        },
        "id": "LUwtwTeYfnPN",
        "outputId": "dd57021d-a6c9-4b55-af10-a1e1bdd45ab5"
      },
      "execution_count": 8,
      "outputs": [
        {
          "output_type": "stream",
          "name": "stdout",
          "text": [
            "kaggle.json  plantvillage-dataset.zip  sample_data\n"
          ]
        }
      ]
    },
    {
      "cell_type": "code",
      "source": [
        "# unzip the downloaded folder of the dataset\n",
        "with ZipFile(\"plantvillage-dataset.zip\", 'r') as zip_ref:\n",
        "    zip_ref.extractall()"
      ],
      "metadata": {
        "id": "EkZSDKSufzPJ"
      },
      "execution_count": 9,
      "outputs": []
    },
    {
      "cell_type": "code",
      "source": [
        "print(os.listdir(\"plantvillage dataset\"))\n"
      ],
      "metadata": {
        "colab": {
          "base_uri": "https://localhost:8080/"
        },
        "id": "YXTWuQtkgq5y",
        "outputId": "7732ade1-f43f-4ff6-9c1c-74d783fabb3e"
      },
      "execution_count": 10,
      "outputs": [
        {
          "output_type": "stream",
          "name": "stdout",
          "text": [
            "['segmented', 'grayscale', 'color']\n"
          ]
        }
      ]
    },
    {
      "cell_type": "markdown",
      "source": [
        "to display the top 10 sub folders inside the color folder of plant disease dataset"
      ],
      "metadata": {
        "id": "c29SjRCeg2UG"
      }
    },
    {
      "cell_type": "code",
      "source": [
        "print(len(os.listdir(\"plantvillage dataset/color\")))\n",
        "print(os.listdir(\"plantvillage dataset/color\")[:10])"
      ],
      "metadata": {
        "colab": {
          "base_uri": "https://localhost:8080/"
        },
        "id": "7i0SgaDvgtmi",
        "outputId": "25581f57-55ef-4903-ea83-065fd17b21ee"
      },
      "execution_count": 12,
      "outputs": [
        {
          "output_type": "stream",
          "name": "stdout",
          "text": [
            "38\n",
            "['Apple___Black_rot', 'Tomato___Target_Spot', 'Tomato___Leaf_Mold', 'Peach___Bacterial_spot', 'Corn_(maize)___Common_rust_', 'Blueberry___healthy', 'Apple___healthy', 'Tomato___Tomato_Yellow_Leaf_Curl_Virus', 'Potato___Early_blight', 'Raspberry___healthy']\n"
          ]
        }
      ]
    },
    {
      "cell_type": "markdown",
      "source": [
        " Number of Classes=38"
      ],
      "metadata": {
        "id": "BJkqrY_xhvM1"
      }
    },
    {
      "cell_type": "markdown",
      "source": [
        "MULTI CLASS CLASSIFICATION PROBLEM.\n",
        "\n",
        "In the above it says 38 that means we have 38 different types of diseases"
      ],
      "metadata": {
        "id": "wln3b4SUhMFs"
      }
    },
    {
      "cell_type": "code",
      "source": [
        "# TO CHECK HOW MANY FILES A PARTICULAR INDIVIDUAL SUBFOLDER HAS .\n",
        "# HERE THE EG:Grape_healty\n",
        "print(len(os.listdir(\"plantvillage dataset/color/Grape___healthy\")))\n",
        "print(os.listdir(\"plantvillage dataset/color/Grape___healthy\")[:5])"
      ],
      "metadata": {
        "colab": {
          "base_uri": "https://localhost:8080/"
        },
        "id": "GNk488hYg-xt",
        "outputId": "822cd505-d258-45d2-f311-e83de54cd0c7"
      },
      "execution_count": 13,
      "outputs": [
        {
          "output_type": "stream",
          "name": "stdout",
          "text": [
            "423\n",
            "['7664a68e-5bf7-4ca4-988d-12d9360bb512___Mt.N.V_HL 9095.JPG', 'ceb17d89-9a96-4b3b-8fa5-5d4b9e442040___Mt.N.V_HL 8904.JPG', '9ac144cb-3abc-404d-a796-bd7904277da5___Mt.N.V_HL 6105.JPG', 'b3a5441e-385d-444e-bf4b-3c7d3cdf36e6___Mt.N.V_HL 9101.JPG', 'e6073510-a72b-441c-9b8a-a2de063a54a4___Mt.N.V_HL 6093.JPG']\n"
          ]
        }
      ]
    }
  ]
}